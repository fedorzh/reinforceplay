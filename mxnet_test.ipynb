{
 "cells": [
  {
   "cell_type": "code",
   "execution_count": 1,
   "metadata": {
    "collapsed": false
   },
   "outputs": [],
   "source": [
    "import mxnet as mx\n",
    "import numpy as np\n",
    "import distributions"
   ]
  },
  {
   "cell_type": "markdown",
   "metadata": {},
   "source": [
    "#### ProbType"
   ]
  },
  {
   "cell_type": "code",
   "execution_count": 55,
   "metadata": {
    "collapsed": false
   },
   "outputs": [],
   "source": [
    "class ProbType(object):\n",
    "    def sampled_variable(self):\n",
    "        raise NotImplementedError\n",
    "    def prob_variable(self):\n",
    "        raise NotImplementedError\n",
    "    def likelihood(self, a, prob):\n",
    "        raise NotImplementedError\n",
    "    def loglikelihood(self, a, prob):\n",
    "        raise NotImplementedError\n",
    "    def kl(self, prob0, prob1):\n",
    "        raise NotImplementedError\n",
    "    def entropy(self, prob):\n",
    "        raise NotImplementedError\n",
    "    def maxprob(self, prob):\n",
    "        raise NotImplementedError\n",
    "        \n",
    "class Categorical(ProbType):\n",
    "    def __init__(self, n):\n",
    "        self.n = n\n",
    "    def likelihood(self, a, prob):\n",
    "        return prob[np.arange(prob.shape[0]), a]\n",
    "    def loglikelihood(self, a, prob):\n",
    "        return np.log(self.likelihood(a, prob))\n",
    "    def kl(self, prob0, prob1):\n",
    "        return (prob0 * np.log(prob0/prob1)).sum(axis=1)\n",
    "    def entropy(self, prob0):\n",
    "        return - (prob0 * np.log(prob0)).sum(axis=1)\n",
    "    def sample(self, prob):\n",
    "        return distributions.categorical_sample(prob)\n",
    "    def maxprob(self, prob):\n",
    "        return prob.argmax(axis=1)"
   ]
  },
  {
   "cell_type": "code",
   "execution_count": 81,
   "metadata": {
    "collapsed": false
   },
   "outputs": [],
   "source": [
    "def validate_probtype(probtype, prob):\n",
    "    N = 100000\n",
    "    # Check to see if mean negative log likelihood == differential entropy\n",
    "    Mval = np.repeat(prob[None, :], N, axis=0)\n",
    "    Xval = probtype.sample(Mval);\n",
    "    \n",
    "    logliks = np.log(probtype.likelihood(Xval, Mval));\n",
    "    entval_ll = - logliks.mean();\n",
    "    entval_ll_stderr = logliks.std() / np.sqrt(N);\n",
    "    \n",
    "    entval = probtype.entropy(Mval).mean();\n",
    "    \n",
    "    print entval, entval_ll, entval_ll_stderr\n",
    "    assert np.abs(entval - entval_ll) < 3 * entval_ll_stderr # within 3 sigmas\n",
    "\n",
    "    # Check to see if kldiv[p,q] = - ent[p] - E_p[log q]\n",
    "    q = prob + np.random.randn(prob.size) * 0.1\n",
    "    Mval2 = np.repeat(q[None, :], N, axis=0)\n",
    "    klval = probtype.kl(Mval, Mval2).mean();\n",
    "    \n",
    "    logliks = np.log(probtype.likelihood(Xval, Mval2));\n",
    "    klval_ll = - entval - logliks.mean()\n",
    "    klval_ll_stderr = logliks.std() / np.sqrt(N)\n",
    "    print klval, klval_ll,  klval_ll_stderr\n",
    "    assert np.abs(klval - klval_ll) < 3 * klval_ll_stderr # within 3 sigmas"
   ]
  },
  {
   "cell_type": "code",
   "execution_count": 82,
   "metadata": {
    "collapsed": false
   },
   "outputs": [
    {
     "name": "stdout",
     "output_type": "stream",
     "text": [
      "1.02965301406 1.02789322634 0.00115045673189\n",
      "0.116240180405 0.116459717973 0.000713083909025\n"
     ]
    }
   ],
   "source": [
    "prob_categorical = np.array([.2, .3, .5])\n",
    "categorical = Categorical(prob_categorical.size)\n",
    "validate_probtype(categorical, prob_categorical);"
   ]
  },
  {
   "cell_type": "markdown",
   "metadata": {
    "collapsed": true
   },
   "source": [
    "#### Model"
   ]
  },
  {
   "cell_type": "code",
   "execution_count": 93,
   "metadata": {
    "collapsed": true
   },
   "outputs": [],
   "source": [
    "class PolicyLoss(mx.operator.NumpyOp):\n",
    "    def __init__(self):\n",
    "        super(PolicyLoss, self).__init__(need_top_grad=False)\n",
    "    \n",
    "    def list_arguments(self):\n",
    "        return ['prob_np', 'oldprob_np', 'act_na', 'adv_n']\n",
    "\n",
    "    def list_outputs(self):\n",
    "        return ['likel', 'poldiff', 'loss']\n",
    "\n",
    "    def infer_shape(self, in_shape):\n",
    "        prob_np_shape = in_shape[0]\n",
    "        oldprob_np_shape = (in_shape[0][0],)\n",
    "        act_na_shape = in_shape[0]\n",
    "        return [data_shape, label_shape], [output_shape]\n",
    "\n",
    "    def forward(self, in_data, out_data):\n",
    "        prob_np = in_data[0];\n",
    "        oldprob_np = in_data[1];\n",
    "        act_na = in_data[2];\n",
    "        adv_n = in_data[3];\n",
    "        \n",
    "        likel = out_data[0];\n",
    "        likel[:] = probtype.likelihood(act_na, prob_np)\n",
    "        \n",
    "        logp_n = np.log(likel);\n",
    "        oldlogp_n = probtype.loglikelihood(act_na, oldprob_np);\n",
    "        \n",
    "        poldiff = out_data[1]\n",
    "        poldiff[:] = np.exp(logp_n - oldlogp_n)*adv_n;\n",
    "        \n",
    "        loss = out_data[2];\n",
    "        loss[:] = - poldiff.mean();\n",
    "    def backward(self, out_grad, in_data, out_data, in_grad):\n",
    "        likel = out_data[0];\n",
    "        poldiff = out_data[1];\n",
    "        dx = in_grad[0]\n",
    "        dx[:] = -poldiff/likel;"
   ]
  },
  {
   "cell_type": "code",
   "execution_count": 98,
   "metadata": {
    "collapsed": false
   },
   "outputs": [
    {
     "ename": "TypeError",
     "evalue": "Only Accept list of NDArrays or dict of str to NDArray",
     "output_type": "error",
     "traceback": [
      "\u001b[0;31m---------------------------------------------------------------------------\u001b[0m",
      "\u001b[0;31mTypeError\u001b[0m                                 Traceback (most recent call last)",
      "\u001b[0;32m<ipython-input-98-df4ba8f44a6d>\u001b[0m in \u001b[0;36m<module>\u001b[0;34m()\u001b[0m\n\u001b[1;32m     16\u001b[0m \u001b[0mpolicynet\u001b[0m \u001b[0;34m=\u001b[0m \u001b[0mpolicyloss\u001b[0m\u001b[0;34m(\u001b[0m\u001b[0mprob_np\u001b[0m\u001b[0;34m=\u001b[0m\u001b[0mprob\u001b[0m\u001b[0;34m,\u001b[0m \u001b[0moldprob_np\u001b[0m\u001b[0;34m=\u001b[0m\u001b[0moldprob_np\u001b[0m\u001b[0;34m,\u001b[0m \u001b[0mact_na\u001b[0m\u001b[0;34m=\u001b[0m\u001b[0mact_na\u001b[0m\u001b[0;34m,\u001b[0m \u001b[0madv_n\u001b[0m\u001b[0;34m=\u001b[0m\u001b[0madv_n\u001b[0m\u001b[0;34m,\u001b[0m \u001b[0mname\u001b[0m \u001b[0;34m=\u001b[0m \u001b[0;34m'policyloss'\u001b[0m\u001b[0;34m)\u001b[0m\u001b[0;34m;\u001b[0m\u001b[0;34m\u001b[0m\u001b[0m\n\u001b[1;32m     17\u001b[0m \u001b[0;34m\u001b[0m\u001b[0m\n\u001b[0;32m---> 18\u001b[0;31m \u001b[0mex\u001b[0m \u001b[0;34m=\u001b[0m \u001b[0mpolicynet\u001b[0m\u001b[0;34m.\u001b[0m\u001b[0mbind\u001b[0m\u001b[0;34m(\u001b[0m\u001b[0mctx\u001b[0m\u001b[0;34m=\u001b[0m\u001b[0mmx\u001b[0m\u001b[0;34m.\u001b[0m\u001b[0mcpu\u001b[0m\u001b[0;34m(\u001b[0m\u001b[0;34m)\u001b[0m\u001b[0;34m,\u001b[0m \u001b[0margs\u001b[0m\u001b[0;34m=\u001b[0m\u001b[0;34m{\u001b[0m\u001b[0;34m'prob_np'\u001b[0m\u001b[0;34m:\u001b[0m\u001b[0mprob_np\u001b[0m\u001b[0;34m,\u001b[0m \u001b[0;34m'oldprob_np'\u001b[0m\u001b[0;34m:\u001b[0m\u001b[0moldprob_np\u001b[0m\u001b[0;34m,\u001b[0m \u001b[0;34m'act_na'\u001b[0m\u001b[0;34m:\u001b[0m\u001b[0mact_na\u001b[0m\u001b[0;34m,\u001b[0m \u001b[0;34m'adv_n'\u001b[0m\u001b[0;34m:\u001b[0m\u001b[0madv_n\u001b[0m\u001b[0;34m}\u001b[0m\u001b[0;34m)\u001b[0m\u001b[0;34m;\u001b[0m\u001b[0;34m\u001b[0m\u001b[0m\n\u001b[0m\u001b[1;32m     19\u001b[0m \u001b[0mex\u001b[0m\u001b[0;34m.\u001b[0m\u001b[0mforward\u001b[0m\u001b[0;34m(\u001b[0m\u001b[0;34m)\u001b[0m\u001b[0;34m\u001b[0m\u001b[0m\n",
      "\u001b[0;32m/usr/local/lib/python2.7/dist-packages/mxnet-0.7.0-py2.7.egg/mxnet/symbol.pyc\u001b[0m in \u001b[0;36mbind\u001b[0;34m(self, ctx, args, args_grad, grad_req, aux_states, group2ctx, shared_exec)\u001b[0m\n\u001b[1;32m    786\u001b[0m \u001b[0;34m\u001b[0m\u001b[0m\n\u001b[1;32m    787\u001b[0m         \u001b[0mlisted_arguments\u001b[0m \u001b[0;34m=\u001b[0m \u001b[0mself\u001b[0m\u001b[0;34m.\u001b[0m\u001b[0mlist_arguments\u001b[0m\u001b[0;34m(\u001b[0m\u001b[0;34m)\u001b[0m\u001b[0;34m\u001b[0m\u001b[0m\n\u001b[0;32m--> 788\u001b[0;31m         \u001b[0margs_handle\u001b[0m\u001b[0;34m,\u001b[0m \u001b[0margs\u001b[0m \u001b[0;34m=\u001b[0m \u001b[0mself\u001b[0m\u001b[0;34m.\u001b[0m\u001b[0m_get_ndarray_inputs\u001b[0m\u001b[0;34m(\u001b[0m\u001b[0;34m'args'\u001b[0m\u001b[0;34m,\u001b[0m \u001b[0margs\u001b[0m\u001b[0;34m,\u001b[0m \u001b[0mlisted_arguments\u001b[0m\u001b[0;34m,\u001b[0m \u001b[0mFalse\u001b[0m\u001b[0;34m)\u001b[0m\u001b[0;34m\u001b[0m\u001b[0m\n\u001b[0m\u001b[1;32m    789\u001b[0m         \u001b[0;31m# setup args gradient\u001b[0m\u001b[0;34m\u001b[0m\u001b[0;34m\u001b[0m\u001b[0m\n\u001b[1;32m    790\u001b[0m         \u001b[0;32mif\u001b[0m \u001b[0margs_grad\u001b[0m \u001b[0;32mis\u001b[0m \u001b[0mNone\u001b[0m\u001b[0;34m:\u001b[0m\u001b[0;34m\u001b[0m\u001b[0m\n",
      "\u001b[0;32m/usr/local/lib/python2.7/dist-packages/mxnet-0.7.0-py2.7.egg/mxnet/symbol.pyc\u001b[0m in \u001b[0;36m_get_ndarray_inputs\u001b[0;34m(arg_key, args, arg_names, allow_missing)\u001b[0m\n\u001b[1;32m    620\u001b[0m                     \u001b[0mnarr\u001b[0m \u001b[0;34m=\u001b[0m \u001b[0margs\u001b[0m\u001b[0;34m[\u001b[0m\u001b[0mname\u001b[0m\u001b[0;34m]\u001b[0m\u001b[0;34m\u001b[0m\u001b[0m\n\u001b[1;32m    621\u001b[0m                     \u001b[0;32mif\u001b[0m \u001b[0;32mnot\u001b[0m \u001b[0misinstance\u001b[0m\u001b[0;34m(\u001b[0m\u001b[0mnarr\u001b[0m\u001b[0;34m,\u001b[0m \u001b[0mNDArray\u001b[0m\u001b[0;34m)\u001b[0m\u001b[0;34m:\u001b[0m\u001b[0;34m\u001b[0m\u001b[0m\n\u001b[0;32m--> 622\u001b[0;31m                         \u001b[0;32mraise\u001b[0m \u001b[0mTypeError\u001b[0m\u001b[0;34m(\u001b[0m\u001b[0;34m'Only Accept list of NDArrays or dict of str to NDArray'\u001b[0m\u001b[0;34m)\u001b[0m\u001b[0;34m\u001b[0m\u001b[0m\n\u001b[0m\u001b[1;32m    623\u001b[0m                     \u001b[0marg_handles\u001b[0m\u001b[0;34m.\u001b[0m\u001b[0mappend\u001b[0m\u001b[0;34m(\u001b[0m\u001b[0mnarr\u001b[0m\u001b[0;34m.\u001b[0m\u001b[0mhandle\u001b[0m\u001b[0;34m)\u001b[0m\u001b[0;34m\u001b[0m\u001b[0m\n\u001b[1;32m    624\u001b[0m                     \u001b[0marg_arrays\u001b[0m\u001b[0;34m.\u001b[0m\u001b[0mappend\u001b[0m\u001b[0;34m(\u001b[0m\u001b[0mnarr\u001b[0m\u001b[0;34m)\u001b[0m\u001b[0;34m\u001b[0m\u001b[0m\n",
      "\u001b[0;31mTypeError\u001b[0m: Only Accept list of NDArrays or dict of str to NDArray"
     ]
    }
   ],
   "source": [
    "# test PolicyLoss class\n",
    "N = 100000;\n",
    "probtype = categorical;\n",
    "\n",
    "prob_np = np.repeat(np.array([.2, .3, .5]), N, axis=0)\n",
    "oldprob_np = mx.nd.array(np.repeat(np.array([.1, .4, .5]), N, axis=0));\n",
    "\n",
    "act_na = mx.nd.array(probtype.sample(prob_np));\n",
    "adv_n = mx.nd.array(np.random.rand(N));\n",
    "\n",
    "prob = mx.sym.Variable('prob_np')\n",
    "oldprob_np = mx.sym.Variable('oldprob_np');\n",
    "act_na = mx.sym.Variable('act_na');\n",
    "adv_n = mx.sym.Variable('adv_n');\n",
    "\n",
    "policyloss = PolicyLoss()\n",
    "policynet = policyloss(prob_np=prob, oldprob_np=oldprob_np, act_na=act_na, adv_n=adv_n, name = 'policyloss');\n",
    "\n",
    "ex = policynet.bind(ctx=mx.cpu(), args={'prob_np':prob_np, 'oldprob_np':oldprob_np, 'act_na':act_na, 'adv_n':adv_n});\n",
    "ex.forward()"
   ]
  },
  {
   "cell_type": "code",
   "execution_count": null,
   "metadata": {
    "collapsed": true
   },
   "outputs": [],
   "source": [
    "print(ex.outputs[0].asnumpy())"
   ]
  },
  {
   "cell_type": "code",
   "execution_count": 94,
   "metadata": {
    "collapsed": false
   },
   "outputs": [
    {
     "data": {
      "image/svg+xml": [
       "<?xml version=\"1.0\" encoding=\"UTF-8\" standalone=\"no\"?>\n",
       "<!DOCTYPE svg PUBLIC \"-//W3C//DTD SVG 1.1//EN\"\n",
       " \"http://www.w3.org/Graphics/SVG/1.1/DTD/svg11.dtd\">\n",
       "<!-- Generated by graphviz version 2.36.0 (20140111.2315)\n",
       " -->\n",
       "<!-- Title: plot Pages: 1 -->\n",
       "<svg width=\"102pt\" height=\"536pt\"\n",
       " viewBox=\"0.00 0.00 102.00 536.00\" xmlns=\"http://www.w3.org/2000/svg\" xmlns:xlink=\"http://www.w3.org/1999/xlink\">\n",
       "<g id=\"graph0\" class=\"graph\" transform=\"scale(1 1) rotate(0) translate(4 532)\">\n",
       "<title>plot</title>\n",
       "<polygon fill=\"white\" stroke=\"none\" points=\"-4,4 -4,-532 98,-532 98,4 -4,4\"/>\n",
       "<!-- data -->\n",
       "<g id=\"node1\" class=\"node\"><title>data</title>\n",
       "<polygon fill=\"#8dd3c7\" stroke=\"black\" points=\"94,-58 -7.10543e-15,-58 -7.10543e-15,-3.55271e-15 94,-3.55271e-15 94,-58\"/>\n",
       "<text text-anchor=\"middle\" x=\"47\" y=\"-25.3\" font-family=\"Times,serif\" font-size=\"14.00\">data</text>\n",
       "</g>\n",
       "<!-- fc1 -->\n",
       "<g id=\"node2\" class=\"node\"><title>fc1</title>\n",
       "<polygon fill=\"#fb8072\" stroke=\"black\" points=\"94,-152 -7.10543e-15,-152 -7.10543e-15,-94 94,-94 94,-152\"/>\n",
       "<text text-anchor=\"middle\" x=\"47\" y=\"-126.8\" font-family=\"Times,serif\" font-size=\"14.00\">FullyConnected</text>\n",
       "<text text-anchor=\"middle\" x=\"47\" y=\"-111.8\" font-family=\"Times,serif\" font-size=\"14.00\">128</text>\n",
       "</g>\n",
       "<!-- fc1&#45;&gt;data -->\n",
       "<g id=\"edge1\" class=\"edge\"><title>fc1&#45;&gt;data</title>\n",
       "<path fill=\"none\" stroke=\"black\" d=\"M47,-83.7443C47,-75.2043 47,-66.2977 47,-58.2479\"/>\n",
       "<polygon fill=\"black\" stroke=\"black\" points=\"47,-93.8971 42.5001,-83.897 47,-88.8971 47.0001,-83.8971 47.0001,-83.8971 47.0001,-83.8971 47,-88.8971 51.5001,-83.8971 47,-93.8971 47,-93.8971\"/>\n",
       "</g>\n",
       "<!-- relu1 -->\n",
       "<g id=\"node3\" class=\"node\"><title>relu1</title>\n",
       "<polygon fill=\"#ffffb3\" stroke=\"black\" points=\"94,-246 -7.10543e-15,-246 -7.10543e-15,-188 94,-188 94,-246\"/>\n",
       "<text text-anchor=\"middle\" x=\"47\" y=\"-220.8\" font-family=\"Times,serif\" font-size=\"14.00\">Activation</text>\n",
       "<text text-anchor=\"middle\" x=\"47\" y=\"-205.8\" font-family=\"Times,serif\" font-size=\"14.00\">relu</text>\n",
       "</g>\n",
       "<!-- relu1&#45;&gt;fc1 -->\n",
       "<g id=\"edge2\" class=\"edge\"><title>relu1&#45;&gt;fc1</title>\n",
       "<path fill=\"none\" stroke=\"black\" d=\"M47,-177.744C47,-169.204 47,-160.298 47,-152.248\"/>\n",
       "<polygon fill=\"black\" stroke=\"black\" points=\"47,-187.897 42.5001,-177.897 47,-182.897 47.0001,-177.897 47.0001,-177.897 47.0001,-177.897 47,-182.897 51.5001,-177.897 47,-187.897 47,-187.897\"/>\n",
       "</g>\n",
       "<!-- fc2 -->\n",
       "<g id=\"node4\" class=\"node\"><title>fc2</title>\n",
       "<polygon fill=\"#fb8072\" stroke=\"black\" points=\"94,-340 -7.10543e-15,-340 -7.10543e-15,-282 94,-282 94,-340\"/>\n",
       "<text text-anchor=\"middle\" x=\"47\" y=\"-314.8\" font-family=\"Times,serif\" font-size=\"14.00\">FullyConnected</text>\n",
       "<text text-anchor=\"middle\" x=\"47\" y=\"-299.8\" font-family=\"Times,serif\" font-size=\"14.00\">10</text>\n",
       "</g>\n",
       "<!-- fc2&#45;&gt;relu1 -->\n",
       "<g id=\"edge3\" class=\"edge\"><title>fc2&#45;&gt;relu1</title>\n",
       "<path fill=\"none\" stroke=\"black\" d=\"M47,-271.744C47,-263.204 47,-254.298 47,-246.248\"/>\n",
       "<polygon fill=\"black\" stroke=\"black\" points=\"47,-281.897 42.5001,-271.897 47,-276.897 47.0001,-271.897 47.0001,-271.897 47.0001,-271.897 47,-276.897 51.5001,-271.897 47,-281.897 47,-281.897\"/>\n",
       "</g>\n",
       "<!-- out -->\n",
       "<g id=\"node5\" class=\"node\"><title>out</title>\n",
       "<polygon fill=\"#fccde5\" stroke=\"black\" points=\"94,-434 -7.10543e-15,-434 -7.10543e-15,-376 94,-376 94,-434\"/>\n",
       "<text text-anchor=\"middle\" x=\"47\" y=\"-401.3\" font-family=\"Times,serif\" font-size=\"14.00\">SoftmaxActivation</text>\n",
       "</g>\n",
       "<!-- out&#45;&gt;fc2 -->\n",
       "<g id=\"edge4\" class=\"edge\"><title>out&#45;&gt;fc2</title>\n",
       "<path fill=\"none\" stroke=\"black\" d=\"M47,-365.744C47,-357.204 47,-348.298 47,-340.248\"/>\n",
       "<polygon fill=\"black\" stroke=\"black\" points=\"47,-375.897 42.5001,-365.897 47,-370.897 47.0001,-365.897 47.0001,-365.897 47.0001,-365.897 47,-370.897 51.5001,-365.897 47,-375.897 47,-375.897\"/>\n",
       "</g>\n",
       "<!-- policyloss -->\n",
       "<g id=\"node6\" class=\"node\"><title>policyloss</title>\n",
       "<polygon fill=\"#fccde5\" stroke=\"black\" points=\"94,-528 -7.10543e-15,-528 -7.10543e-15,-470 94,-470 94,-528\"/>\n",
       "<text text-anchor=\"middle\" x=\"47\" y=\"-495.3\" font-family=\"Times,serif\" font-size=\"14.00\">_Native</text>\n",
       "</g>\n",
       "<!-- policyloss&#45;&gt;out -->\n",
       "<g id=\"edge5\" class=\"edge\"><title>policyloss&#45;&gt;out</title>\n",
       "<path fill=\"none\" stroke=\"black\" d=\"M47,-459.744C47,-451.204 47,-442.298 47,-434.248\"/>\n",
       "<polygon fill=\"black\" stroke=\"black\" points=\"47,-469.897 42.5001,-459.897 47,-464.897 47.0001,-459.897 47.0001,-459.897 47.0001,-459.897 47,-464.897 51.5001,-459.897 47,-469.897 47,-469.897\"/>\n",
       "</g>\n",
       "</g>\n",
       "</svg>\n"
      ],
      "text/plain": [
       "<graphviz.dot.Digraph at 0x7fb1ea991490>"
      ]
     },
     "execution_count": 94,
     "metadata": {},
     "output_type": "execute_result"
    }
   ],
   "source": [
    "import mxnet as mx\n",
    "num_classes = 10\n",
    "net = mx.sym.Variable('data')\n",
    "net = mx.sym.FullyConnected(data=net, name='fc1', num_hidden=128)\n",
    "net = mx.sym.Activation(data=net, name='relu1', act_type=\"relu\")\n",
    "net = mx.sym.FullyConnected(data=net, name='fc2', num_hidden=num_classes)\n",
    "net = mx.sym.SoftmaxActivation(data=net, name='out');\n",
    "\n",
    "oldprob_np = mx.sym.Variable('oldprob_np');\n",
    "act_na = mx.sym.Variable('act_na');\n",
    "adv_n = mx.sym.Variable('adv_n');\n",
    "policyloss = PolicyLoss()\n",
    "policynet = policyloss(prob_np=net, oldprob_np=oldprob_np, act_na=act_na, adv_n=adv_n, name = 'policyloss')\n",
    "\n",
    "mx.viz.plot_network(policynet)"
   ]
  },
  {
   "cell_type": "code",
   "execution_count": 86,
   "metadata": {
    "collapsed": false
   },
   "outputs": [
    {
     "name": "stdout",
     "output_type": "stream",
     "text": [
      "('fc2_weight', (10L, 128L))\n",
      "('fc1_weight', (128L, 100L))\n",
      "('out_label', (100L,))\n",
      "('fc2_bias', (10L,))\n",
      "('data', (100L, 100L))\n",
      "('fc1_bias', (128L,))\n"
     ]
    }
   ],
   "source": [
    "num_features = 100\n",
    "batch_size = 100\n",
    "ex = net.simple_bind(ctx=mx.cpu(), data=(batch_size, num_features))\n",
    "args = dict(zip(net.list_arguments(), ex.arg_arrays))\n",
    "for name in args:\n",
    "    print(name, args[name].shape)"
   ]
  },
  {
   "cell_type": "code",
   "execution_count": 87,
   "metadata": {
    "collapsed": true
   },
   "outputs": [],
   "source": [
    "for name in args:\n",
    "    data = args[name]\n",
    "    if 'weight' in name:\n",
    "        data[:] = mx.random.uniform(-0.1, 0.1, data.shape)\n",
    "    if 'bias' in name:\n",
    "        data[:] = 0"
   ]
  },
  {
   "cell_type": "code",
   "execution_count": 89,
   "metadata": {
    "collapsed": false
   },
   "outputs": [],
   "source": [
    "adv_n = mx.sym.Variable('adv_n');"
   ]
  },
  {
   "cell_type": "code",
   "execution_count": null,
   "metadata": {
    "collapsed": true
   },
   "outputs": [],
   "source": [
    "probtype = stochpol.probtype\n",
    "params = stochpol.trainable_variables\n",
    "EzFlat.__init__(self, params)\n",
    "\n",
    "ob_no = stochpol.input\n",
    "act_na = probtype.sampled_variable()\n",
    "adv_n = T.vector(\"adv_n\")\n",
    "\n",
    "# Probability distribution:\n",
    "prob_np = stochpol.get_output()\n",
    "oldprob_np = probtype.prob_variable()\n",
    "\n",
    "logp_n = probtype.loglikelihood(act_na, prob_np)\n",
    "oldlogp_n = probtype.loglikelihood(act_na, oldprob_np)\n",
    "N = ob_no.shape[0]\n",
    "\n",
    "# Policy gradient:\n",
    "surr = (-1.0 / N) * T.exp(logp_n - oldlogp_n).dot(adv_n)\n",
    "pg = flatgrad(surr, params)"
   ]
  }
 ],
 "metadata": {
  "kernelspec": {
   "display_name": "Python 2",
   "language": "python",
   "name": "python2"
  },
  "language_info": {
   "codemirror_mode": {
    "name": "ipython",
    "version": 2
   },
   "file_extension": ".py",
   "mimetype": "text/x-python",
   "name": "python",
   "nbconvert_exporter": "python",
   "pygments_lexer": "ipython2",
   "version": "2.7.6"
  }
 },
 "nbformat": 4,
 "nbformat_minor": 1
}
